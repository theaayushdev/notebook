{
 "cells": [
  {
   "cell_type": "code",
   "execution_count": 3,
   "id": "3b5543c6-1ac5-421f-9b28-1907e6baaa6d",
   "metadata": {},
   "outputs": [],
   "source": [
    "# python "
   ]
  },
  {
   "cell_type": "code",
   "execution_count": 2,
   "id": "ab411563-2e11-4235-8537-d5372f9525c7",
   "metadata": {},
   "outputs": [
    {
     "name": "stdout",
     "output_type": "stream",
     "text": [
      "Hello, Pythonista!\n"
     ]
    }
   ],
   "source": [
    "\n",
    "def greet(name):\n",
    "    return f\"Hello, {name}!\"\n",
    "    \n",
    "message = greet(\"Pythonista\")\n",
    "print(message)\n"
   ]
  },
  {
   "cell_type": "code",
   "execution_count": 5,
   "id": "4555219c-cdd4-4a77-b18e-406fec1420e5",
   "metadata": {},
   "outputs": [
    {
     "name": "stdout",
     "output_type": "stream",
     "text": [
      "Name: Alice\n",
      "Age: 22\n",
      "{'name': 'Alice', 'age': 22, 'major': 'Computer Science', 'GPA': '4.0'}\n",
      "Updated Dictionary: {'name': 'Alice', 'age': 22, 'major': 'Computer Science', 'GPA': '4.0'}\n"
     ]
    }
   ],
   "source": [
    "# Creating a dictionary\n",
    "student = {\n",
    "    \"name\": \"Alice\",\n",
    "    \"age\": 22,\n",
    "    \"major\": \"Computer Science\"\n",
    "}\n",
    "\n",
    "# Accessing dictionary values\n",
    "print(\"Name:\", student[\"name\"])\n",
    "print(\"Age:\", student[\"age\"])\n",
    "\n",
    "#another \n",
    "student.update({\"GPA\":\"4.0\"})\n",
    "print(student)\n",
    "print(\"Updated Dictionary:\", student)\n"
   ]
  },
  {
   "cell_type": "code",
   "execution_count": 8,
   "id": "31cff4a1-4677-400e-bf54-1938375997c5",
   "metadata": {},
   "outputs": [
    {
     "name": "stdout",
     "output_type": "stream",
     "text": [
      "5.0\n"
     ]
    }
   ],
   "source": [
    "# Exception handling\n",
    "try:\n",
    "    result = 10 / 2\n",
    "    print(result)\n",
    "except ZeroDivisionError:\n",
    "    print(\"Cannot divide by zero!\")\n"
   ]
  },
  {
   "cell_type": "code",
   "execution_count": null,
   "id": "98203a96-45ec-4a99-9ecd-e98af8dadedd",
   "metadata": {},
   "outputs": [],
   "source": []
  }
 ],
 "metadata": {
  "kernelspec": {
   "display_name": "Python 3 (ipykernel)",
   "language": "python",
   "name": "python3"
  },
  "language_info": {
   "codemirror_mode": {
    "name": "ipython",
    "version": 3
   },
   "file_extension": ".py",
   "mimetype": "text/x-python",
   "name": "python",
   "nbconvert_exporter": "python",
   "pygments_lexer": "ipython3",
   "version": "3.12.6"
  }
 },
 "nbformat": 4,
 "nbformat_minor": 5
}
