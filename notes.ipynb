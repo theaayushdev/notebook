{
 "cells": [
  {
   "cell_type": "code",
   "execution_count": null,
   "id": "3b5543c6-1ac5-421f-9b28-1907e6baaa6d",
   "metadata": {},
   "outputs": [
    {
     "name": "stdout",
     "output_type": "stream",
     "text": [
      "Enter the father's name to display their son's name :  Roger\n"
     ]
    },
    {
     "name": "stdout",
     "output_type": "stream",
     "text": [
      "Ace\n",
      "his name is :  Ace\n"
     ]
    }
   ],
   "source": [
    "family = {\"Roger\": \"Ace\",\n",
    "          \"Dragon\": \"luffy\",\n",
    "          \"yagami\":\"light\",\n",
    "          \"imu\":\"sama\"}\n",
    "\n",
    "name : str = input(\"Enter the father's name to display their son's name : \")\n",
    "if name in family :\n",
    "  print(family[name])\n",
    "  print(\"his name is : \", family.get(name))\n",
    "else :\n",
    "  print(\"can't find the father sir!!\")\n",
    "  print(\"try again later\")\n"
   ]
  },
  {
   "cell_type": "code",
   "execution_count": 2,
   "id": "ab411563-2e11-4235-8537-d5372f9525c7",
   "metadata": {},
   "outputs": [
    {
     "name": "stdout",
     "output_type": "stream",
     "text": [
      "Hello, Pythonista!\n"
     ]
    }
   ],
   "source": [
    "\n",
    "def greet(name):\n",
    "    return f\"Hello, {name}!\"\n",
    "    \n",
    "message = greet(\"Pythonistaa\")\n",
    "print(message)\n"
   ]
  },
  {
   "cell_type": "code",
   "execution_count": 5,
   "id": "4555219c-cdd4-4a77-b18e-406fec1420e5",
   "metadata": {},
   "outputs": [
    {
     "name": "stdout",
     "output_type": "stream",
     "text": [
      "Name: Alice\n",
      "Age: 22\n",
      "{'name': 'Alice', 'age': 22, 'major': 'Computer Science', 'GPA': '4.0'}\n",
      "Updated Dictionary: {'name': 'Alice', 'age': 22, 'major': 'Computer Science', 'GPA': '4.0'}\n"
     ]
    }
   ],
   "source": [
    "# Creating a dictionary\n",
    "student = {\n",
    "    \"name\": \"Alice\",\n",
    "    \"age\": 22,\n",
    "    \"major\": \"Computer Science\"\n",
    "}\n",
    "\n",
    "# Accessing dictionary values\n",
    "print(\"Name:\", student[\"name\"])\n",
    "print(\"Age:\", student[\"age\"])\n",
    "\n",
    "#another \n",
    "student.update({\"GPA\":\"4.0\"})\n",
    "print(student)\n",
    "print(\"Updated Dictionary:\", student)\n"
   ]
  },
  {
   "cell_type": "code",
   "execution_count": 8,
   "id": "31cff4a1-4677-400e-bf54-1938375997c5",
   "metadata": {},
   "outputs": [
    {
     "name": "stdout",
     "output_type": "stream",
     "text": [
      "5.0\n"
     ]
    }
   ],
   "source": [
    "# Exception handling\n",
    "try:\n",
    "    result = 10 / 2\n",
    "    print(result)\n",
    "except ZeroDivisionError:\n",
    "    print(\"Cannot divide by zero!\")\n"
   ]
  },
  {
   "cell_type": "code",
   "execution_count": null,
   "id": "98203a96-45ec-4a99-9ecd-e98af8dadedd",
   "metadata": {},
   "outputs": [
    {
     "name": "stdout",
     "output_type": "stream",
     "text": [
      "Guess a number from 1 to 10\n",
      "guess\n"
     ]
    },
    {
     "name": "stdout",
     "output_type": "stream",
     "text": [
      " 5\n"
     ]
    },
    {
     "name": "stdout",
     "output_type": "stream",
     "text": [
      "Your guess is too low\n",
      "guess\n"
     ]
    },
    {
     "name": "stdout",
     "output_type": "stream",
     "text": [
      " 8\n"
     ]
    },
    {
     "name": "stdout",
     "output_type": "stream",
     "text": [
      "Congrats\n"
     ]
    }
   ],
   "source": [
    "import random \n",
    "\n",
    "secretnumbers = random.randint(1,10)\n",
    "\n",
    "print(\"Guess a number from 1 to 10\")\n",
    "\n",
    "for guessdone in range(0,3):\n",
    "  print(\"guess\")\n",
    "  guess= int(input())\n",
    "\n",
    "  if guess < secretnumbers :\n",
    "    print(\"Your guess is too low\")\n",
    "  elif guess > secretnumbers :\n",
    "    print(\"You are near to guess the right word\")\n",
    "  else:\n",
    "    break \n",
    "\n",
    "if guess == secretnumbers :\n",
    "  print (\"Congrats\")\n",
    "else :\n",
    "  print(\"Sorry the number was : \"+str(secretnumbers))\n",
    "\n"
   ]
  },
  {
   "cell_type": "code",
   "execution_count": null,
   "id": "a8406813-867e-4524-8e92-5e211759f085",
   "metadata": {},
   "outputs": [],
   "source": []
  }
 ],
 "metadata": {
  "kernelspec": {
   "display_name": "Python 3 (ipykernel)",
   "language": "python",
   "name": "python3"
  },
  "language_info": {
   "codemirror_mode": {
    "name": "ipython",
    "version": 3
   },
   "file_extension": ".py",
   "mimetype": "text/x-python",
   "name": "python",
   "nbconvert_exporter": "python",
   "pygments_lexer": "ipython3",
   "version": "3.12.6"
  }
 },
 "nbformat": 4,
 "nbformat_minor": 5
}
